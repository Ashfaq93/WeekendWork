{
 "cells": [
  {
   "cell_type": "code",
   "execution_count": 78,
   "metadata": {},
   "outputs": [],
   "source": [
    "import pandas as pd\n",
    "import numpy as np\n",
    "import matplotlib.pyplot as plt\n",
    "%matplotlib inline\n",
    "\n",
    "import seaborn as sns\n",
    "from collections import Counter\n"
   ]
  },
  {
   "cell_type": "code",
   "execution_count": 2,
   "metadata": {},
   "outputs": [],
   "source": [
    "train = pd.read_csv('new-york-city-taxi-fare-prediction/train.csv', nrows = 5_000_000, \n",
    "                   parse_dates = ['pickup_datetime']).drop(columns = 'key')"
   ]
  },
  {
   "cell_type": "code",
   "execution_count": 3,
   "metadata": {},
   "outputs": [
    {
     "name": "stdout",
     "output_type": "stream",
     "text": [
      "(5000000, 7)\n",
      "Index(['fare_amount', 'pickup_datetime', 'pickup_longitude', 'pickup_latitude',\n",
      "       'dropoff_longitude', 'dropoff_latitude', 'passenger_count'],\n",
      "      dtype='object')\n",
      "fare_amount                 float64\n",
      "pickup_datetime      datetime64[ns]\n",
      "pickup_longitude            float64\n",
      "pickup_latitude             float64\n",
      "dropoff_longitude           float64\n",
      "dropoff_latitude            float64\n",
      "passenger_count               int64\n",
      "dtype: object\n"
     ]
    }
   ],
   "source": [
    "print(train.shape)\n",
    "print(train.columns)\n",
    "print(train.dtypes)"
   ]
  },
  {
   "cell_type": "code",
   "execution_count": 4,
   "metadata": {},
   "outputs": [
    {
     "data": {
      "text/html": [
       "<div>\n",
       "<style scoped>\n",
       "    .dataframe tbody tr th:only-of-type {\n",
       "        vertical-align: middle;\n",
       "    }\n",
       "\n",
       "    .dataframe tbody tr th {\n",
       "        vertical-align: top;\n",
       "    }\n",
       "\n",
       "    .dataframe thead th {\n",
       "        text-align: right;\n",
       "    }\n",
       "</style>\n",
       "<table border=\"1\" class=\"dataframe\">\n",
       "  <thead>\n",
       "    <tr style=\"text-align: right;\">\n",
       "      <th></th>\n",
       "      <th>fare_amount</th>\n",
       "      <th>pickup_datetime</th>\n",
       "      <th>pickup_longitude</th>\n",
       "      <th>pickup_latitude</th>\n",
       "      <th>dropoff_longitude</th>\n",
       "      <th>dropoff_latitude</th>\n",
       "      <th>passenger_count</th>\n",
       "    </tr>\n",
       "  </thead>\n",
       "  <tbody>\n",
       "    <tr>\n",
       "      <th>0</th>\n",
       "      <td>4.5</td>\n",
       "      <td>2009-06-15 17:26:21</td>\n",
       "      <td>-73.844311</td>\n",
       "      <td>40.721319</td>\n",
       "      <td>-73.841610</td>\n",
       "      <td>40.712278</td>\n",
       "      <td>1</td>\n",
       "    </tr>\n",
       "    <tr>\n",
       "      <th>1</th>\n",
       "      <td>16.9</td>\n",
       "      <td>2010-01-05 16:52:16</td>\n",
       "      <td>-74.016048</td>\n",
       "      <td>40.711303</td>\n",
       "      <td>-73.979268</td>\n",
       "      <td>40.782004</td>\n",
       "      <td>1</td>\n",
       "    </tr>\n",
       "    <tr>\n",
       "      <th>2</th>\n",
       "      <td>5.7</td>\n",
       "      <td>2011-08-18 00:35:00</td>\n",
       "      <td>-73.982738</td>\n",
       "      <td>40.761270</td>\n",
       "      <td>-73.991242</td>\n",
       "      <td>40.750562</td>\n",
       "      <td>2</td>\n",
       "    </tr>\n",
       "    <tr>\n",
       "      <th>3</th>\n",
       "      <td>7.7</td>\n",
       "      <td>2012-04-21 04:30:42</td>\n",
       "      <td>-73.987130</td>\n",
       "      <td>40.733143</td>\n",
       "      <td>-73.991567</td>\n",
       "      <td>40.758092</td>\n",
       "      <td>1</td>\n",
       "    </tr>\n",
       "  </tbody>\n",
       "</table>\n",
       "</div>"
      ],
      "text/plain": [
       "   fare_amount     pickup_datetime  pickup_longitude  pickup_latitude  \\\n",
       "0          4.5 2009-06-15 17:26:21        -73.844311        40.721319   \n",
       "1         16.9 2010-01-05 16:52:16        -74.016048        40.711303   \n",
       "2          5.7 2011-08-18 00:35:00        -73.982738        40.761270   \n",
       "3          7.7 2012-04-21 04:30:42        -73.987130        40.733143   \n",
       "\n",
       "   dropoff_longitude  dropoff_latitude  passenger_count  \n",
       "0         -73.841610         40.712278                1  \n",
       "1         -73.979268         40.782004                1  \n",
       "2         -73.991242         40.750562                2  \n",
       "3         -73.991567         40.758092                1  "
      ]
     },
     "execution_count": 4,
     "metadata": {},
     "output_type": "execute_result"
    }
   ],
   "source": [
    "train.head(4)"
   ]
  },
  {
   "cell_type": "code",
   "execution_count": 6,
   "metadata": {},
   "outputs": [
    {
     "name": "stdout",
     "output_type": "stream",
     "text": [
      "before removing null values dropoff_latitude     36\n",
      "dropoff_longitude    36\n",
      "passenger_count       0\n",
      "pickup_latitude       0\n",
      "pickup_longitude      0\n",
      "pickup_datetime       0\n",
      "fare_amount           0\n",
      "dtype: int64\n",
      "after removing null values passenger_count      0\n",
      "dropoff_latitude     0\n",
      "dropoff_longitude    0\n",
      "pickup_latitude      0\n",
      "pickup_longitude     0\n",
      "pickup_datetime      0\n",
      "fare_amount          0\n",
      "dtype: int64\n"
     ]
    }
   ],
   "source": [
    "#check null values\n",
    "print(\"before removing null values\",train.isnull().sum().sort_values(ascending=False))\n",
    "train = train.drop(train[train.isnull().any(1)].index, axis = 0)\n",
    "print(\"after removing null values\",train.isnull().sum().sort_values(ascending=False))"
   ]
  },
  {
   "cell_type": "code",
   "execution_count": 7,
   "metadata": {},
   "outputs": [
    {
     "name": "stdout",
     "output_type": "stream",
     "text": [
      "(4999964, 7)\n"
     ]
    }
   ],
   "source": [
    "print(train.shape)\n"
   ]
  },
  {
   "cell_type": "code",
   "execution_count": 8,
   "metadata": {},
   "outputs": [
    {
     "name": "stderr",
     "output_type": "stream",
     "text": [
      "C:\\Users\\v-ashkha\\AppData\\Local\\Continuum\\anaconda3\\lib\\site-packages\\scipy\\stats\\stats.py:1713: FutureWarning: Using a non-tuple sequence for multidimensional indexing is deprecated; use `arr[tuple(seq)]` instead of `arr[seq]`. In the future this will be interpreted as an array index, `arr[np.array(seq)]`, which will result either in an error or a different result.\n",
      "  return np.add.reduce(sorted[indexer] * weights, axis=axis) / sumval\n"
     ]
    },
    {
     "data": {
      "text/plain": [
       "Text(0.5,1,'Distribution Fare')"
      ]
     },
     "execution_count": 8,
     "metadata": {},
     "output_type": "execute_result"
    },
    {
     "data": {
      "image/png": "[encoded data removed]",
      "text/plain": [
       "<Figure size 720x360 with 1 Axes>"
      ]
     },
     "metadata": {
      "needs_background": "light"
     },
     "output_type": "display_data"
    }
   ],
   "source": [
    "plt.figure(figsize=(10,5))\n",
    "sns.distplot(train['fare_amount'])\n",
    "plt.title('Distribution Fare')"
   ]
  },
  {
   "cell_type": "markdown",
   "metadata": {},
   "source": [
    "# Outliers #pariahs\n"
   ]
  },
  {
   "cell_type": "code",
   "execution_count": 9,
   "metadata": {},
   "outputs": [
    {
     "data": {
      "text/plain": [
       "count    4.999964e+06\n",
       "mean     1.134074e+01\n",
       "std      9.820066e+00\n",
       "min     -1.000000e+02\n",
       "25%      6.000000e+00\n",
       "50%      8.500000e+00\n",
       "75%      1.250000e+01\n",
       "max      1.273310e+03\n",
       "Name: fare_amount, dtype: float64"
      ]
     },
     "execution_count": 9,
     "metadata": {},
     "output_type": "execute_result"
    },
    {
     "data": {
      "image/png": "[encoded data removed]",
      "text/plain": [
       "<Figure size 432x288 with 1 Axes>"
      ]
     },
     "metadata": {
      "needs_background": "light"
     },
     "output_type": "display_data"
    }
   ],
   "source": [
    "sns.scatterplot(train['passenger_count'],train['fare_amount'])\n",
    "plt.title('Passenger Count vs Fair Amount')\n",
    "train['fare_amount'].describe()\n"
   ]
  },
  {
   "cell_type": "code",
   "execution_count": 12,
   "metadata": {},
   "outputs": [
    {
     "name": "stdout",
     "output_type": "stream",
     "text": [
      "Counter({False: 4999753})\n",
      "(4999753, 7)\n"
     ]
    }
   ],
   "source": [
    "#-ve values in fair amount shall be removed \n",
    "print(Counter(train['fare_amount']<0))\n",
    "train = train.drop(train[train['fare_amount']<0].index, axis=0)\n",
    "print(train.shape)\n"
   ]
  },
  {
   "cell_type": "code",
   "execution_count": 24,
   "metadata": {},
   "outputs": [
    {
     "data": {
      "text/plain": [
       "count    4.999753e+06\n",
       "mean     1.134159e+01\n",
       "std      9.819001e+00\n",
       "min      0.000000e+00\n",
       "25%      6.000000e+00\n",
       "50%      8.500000e+00\n",
       "75%      1.250000e+01\n",
       "max      1.273310e+03\n",
       "Name: fare_amount, dtype: float64"
      ]
     },
     "execution_count": 24,
     "metadata": {},
     "output_type": "execute_result"
    }
   ],
   "source": [
    "train['fare_amount'].describe()"
   ]
  },
  {
   "cell_type": "code",
   "execution_count": 29,
   "metadata": {},
   "outputs": [
    {
     "name": "stdout",
     "output_type": "stream",
     "text": [
      "passenger stats \n",
      " count    4.999753e+06\n",
      "mean     1.684702e+00\n",
      "std      1.331848e+00\n",
      "min      0.000000e+00\n",
      "25%      1.000000e+00\n",
      "50%      1.000000e+00\n",
      "75%      2.000000e+00\n",
      "max      2.080000e+02\n",
      "Name: passenger_count, dtype: float64\n"
     ]
    },
    {
     "data": {
      "text/html": [
       "<div>\n",
       "<style scoped>\n",
       "    .dataframe tbody tr th:only-of-type {\n",
       "        vertical-align: middle;\n",
       "    }\n",
       "\n",
       "    .dataframe tbody tr th {\n",
       "        vertical-align: top;\n",
       "    }\n",
       "\n",
       "    .dataframe thead th {\n",
       "        text-align: right;\n",
       "    }\n",
       "</style>\n",
       "<table border=\"1\" class=\"dataframe\">\n",
       "  <thead>\n",
       "    <tr style=\"text-align: right;\">\n",
       "      <th></th>\n",
       "      <th>fare_amount</th>\n",
       "      <th>pickup_datetime</th>\n",
       "      <th>pickup_longitude</th>\n",
       "      <th>pickup_latitude</th>\n",
       "      <th>dropoff_longitude</th>\n",
       "      <th>dropoff_latitude</th>\n",
       "      <th>passenger_count</th>\n",
       "    </tr>\n",
       "  </thead>\n",
       "  <tbody>\n",
       "    <tr>\n",
       "      <th>929022</th>\n",
       "      <td>3.3</td>\n",
       "      <td>2009-07-30 11:54:00</td>\n",
       "      <td>0.000000</td>\n",
       "      <td>0.000000</td>\n",
       "      <td>0.000000</td>\n",
       "      <td>0.000000</td>\n",
       "      <td>208</td>\n",
       "    </tr>\n",
       "    <tr>\n",
       "      <th>2154045</th>\n",
       "      <td>3.3</td>\n",
       "      <td>2010-12-16 11:21:00</td>\n",
       "      <td>0.000000</td>\n",
       "      <td>0.000000</td>\n",
       "      <td>0.000000</td>\n",
       "      <td>0.000000</td>\n",
       "      <td>208</td>\n",
       "    </tr>\n",
       "    <tr>\n",
       "      <th>2198549</th>\n",
       "      <td>3.3</td>\n",
       "      <td>2010-12-15 14:20:00</td>\n",
       "      <td>0.000000</td>\n",
       "      <td>0.000000</td>\n",
       "      <td>0.000000</td>\n",
       "      <td>0.000000</td>\n",
       "      <td>208</td>\n",
       "    </tr>\n",
       "    <tr>\n",
       "      <th>2910347</th>\n",
       "      <td>4.5</td>\n",
       "      <td>2010-12-16 06:44:00</td>\n",
       "      <td>0.000000</td>\n",
       "      <td>0.000000</td>\n",
       "      <td>0.000000</td>\n",
       "      <td>0.000000</td>\n",
       "      <td>208</td>\n",
       "    </tr>\n",
       "    <tr>\n",
       "      <th>3107489</th>\n",
       "      <td>2.7</td>\n",
       "      <td>2009-05-12 14:50:00</td>\n",
       "      <td>-73.937818</td>\n",
       "      <td>40.758260</td>\n",
       "      <td>-73.937827</td>\n",
       "      <td>40.758250</td>\n",
       "      <td>208</td>\n",
       "    </tr>\n",
       "    <tr>\n",
       "      <th>3323791</th>\n",
       "      <td>8.5</td>\n",
       "      <td>2011-08-27 01:24:00</td>\n",
       "      <td>-73.987858</td>\n",
       "      <td>40.760340</td>\n",
       "      <td>-74.000682</td>\n",
       "      <td>40.752413</td>\n",
       "      <td>129</td>\n",
       "    </tr>\n",
       "    <tr>\n",
       "      <th>4103745</th>\n",
       "      <td>23.7</td>\n",
       "      <td>2010-12-22 12:11:00</td>\n",
       "      <td>0.000000</td>\n",
       "      <td>0.000000</td>\n",
       "      <td>0.000000</td>\n",
       "      <td>0.000000</td>\n",
       "      <td>208</td>\n",
       "    </tr>\n",
       "    <tr>\n",
       "      <th>4432483</th>\n",
       "      <td>11.1</td>\n",
       "      <td>2009-05-11 13:56:00</td>\n",
       "      <td>-73.937733</td>\n",
       "      <td>40.758267</td>\n",
       "      <td>-73.937737</td>\n",
       "      <td>40.758273</td>\n",
       "      <td>208</td>\n",
       "    </tr>\n",
       "  </tbody>\n",
       "</table>\n",
       "</div>"
      ],
      "text/plain": [
       "         fare_amount     pickup_datetime  pickup_longitude  pickup_latitude  \\\n",
       "929022           3.3 2009-07-30 11:54:00          0.000000         0.000000   \n",
       "2154045          3.3 2010-12-16 11:21:00          0.000000         0.000000   \n",
       "2198549          3.3 2010-12-15 14:20:00          0.000000         0.000000   \n",
       "2910347          4.5 2010-12-16 06:44:00          0.000000         0.000000   \n",
       "3107489          2.7 2009-05-12 14:50:00        -73.937818        40.758260   \n",
       "3323791          8.5 2011-08-27 01:24:00        -73.987858        40.760340   \n",
       "4103745         23.7 2010-12-22 12:11:00          0.000000         0.000000   \n",
       "4432483         11.1 2009-05-11 13:56:00        -73.937733        40.758267   \n",
       "\n",
       "         dropoff_longitude  dropoff_latitude  passenger_count  \n",
       "929022            0.000000          0.000000              208  \n",
       "2154045           0.000000          0.000000              208  \n",
       "2198549           0.000000          0.000000              208  \n",
       "2910347           0.000000          0.000000              208  \n",
       "3107489         -73.937827         40.758250              208  \n",
       "3323791         -74.000682         40.752413              129  \n",
       "4103745           0.000000          0.000000              208  \n",
       "4432483         -73.937737         40.758273              208  "
      ]
     },
     "execution_count": 29,
     "metadata": {},
     "output_type": "execute_result"
    }
   ],
   "source": [
    "print(\"passenger stats \\n\",train['passenger_count'].describe())\n",
    "train[train['passenger_count']>51]\n"
   ]
  },
  {
   "cell_type": "code",
   "execution_count": 30,
   "metadata": {},
   "outputs": [],
   "source": [
    "train = train.drop(train[train['passenger_count']==208].index, axis = 0)"
   ]
  },
  {
   "cell_type": "code",
   "execution_count": 31,
   "metadata": {},
   "outputs": [
    {
     "data": {
      "text/plain": [
       "count    4.999746e+06\n",
       "mean     1.684413e+00\n",
       "std      1.309285e+00\n",
       "min      0.000000e+00\n",
       "25%      1.000000e+00\n",
       "50%      1.000000e+00\n",
       "75%      2.000000e+00\n",
       "max      1.290000e+02\n",
       "Name: passenger_count, dtype: float64"
      ]
     },
     "execution_count": 31,
     "metadata": {},
     "output_type": "execute_result"
    }
   ],
   "source": [
    "train['passenger_count'].describe()"
   ]
  },
  {
   "cell_type": "code",
   "execution_count": 32,
   "metadata": {},
   "outputs": [
    {
     "data": {
      "text/plain": [
       "count    4.999746e+06\n",
       "mean     3.991991e+01\n",
       "std      8.963290e+00\n",
       "min     -3.488080e+03\n",
       "25%      4.073491e+01\n",
       "50%      4.075263e+01\n",
       "75%      4.076712e+01\n",
       "max      3.310364e+03\n",
       "Name: pickup_latitude, dtype: float64"
      ]
     },
     "execution_count": 32,
     "metadata": {},
     "output_type": "execute_result"
    }
   ],
   "source": [
    "train['pickup_latitude'].describe()"
   ]
  },
  {
   "cell_type": "code",
   "execution_count": 33,
   "metadata": {},
   "outputs": [
    {
     "name": "stdout",
     "output_type": "stream",
     "text": [
      "         fare_amount     pickup_datetime  pickup_longitude  pickup_latitude  \\\n",
      "150559          25.3 2012-08-03 07:43:00          0.000000     -3116.285383   \n",
      "436233           4.1 2012-03-11 01:56:00      -2986.242495      -880.627428   \n",
      "543001           5.3 2011-10-28 13:53:00      -3377.680935      -113.019497   \n",
      "1281413         11.3 2011-09-02 22:51:00      -2256.421232     -1185.391185   \n",
      "1340837         10.1 2011-06-09 10:39:00       2434.238557     -3458.664702   \n",
      "1388984         11.3 2012-01-18 21:33:00      -1649.643088      -849.829532   \n",
      "1606685          4.9 2011-07-05 17:10:00      -1329.480383      -764.564600   \n",
      "1781778          6.5 2011-10-13 07:10:00      -1659.514697      -821.904472   \n",
      "2035826          6.1 2012-01-11 23:48:00      -3313.387292      -812.119530   \n",
      "2037003          7.3 2011-05-22 17:08:00      -2995.982437     -2847.702303   \n",
      "2612104          4.5 2011-09-10 09:35:00        408.352392     -3488.079513   \n",
      "2862434          6.5 2011-06-18 02:46:00        976.004115     -3258.765613   \n",
      "2921745         10.5 2011-10-06 09:59:00      -1351.868103      -772.946457   \n",
      "2982842          5.7 2012-03-09 17:45:00       2128.011715      -451.375667   \n",
      "2983841          5.7 2011-07-29 12:02:00       2130.812885     -1765.599020   \n",
      "3044791         12.1 2011-06-17 21:30:00       2072.113262     -2573.686443   \n",
      "3102900          8.1 2012-03-01 22:56:00        374.828325     -2503.765460   \n",
      "3229948          6.5 2012-02-22 13:09:00      -2975.047802     -1757.195497   \n",
      "3263161         10.5 2012-03-06 11:39:00      -3348.349457     -2092.738817   \n",
      "3501205          4.5 2012-01-15 00:43:00       2857.839645     -2103.946843   \n",
      "4127802          6.9 2011-11-16 11:15:00        -13.887278     -2105.344928   \n",
      "4167774         20.9 2011-05-25 10:02:00      -2404.643242      -110.283327   \n",
      "4214024         22.9 2012-01-13 11:07:00       -915.660903      -823.300890   \n",
      "4428674          9.7 2012-01-28 18:40:00       2449.577505     -2164.047885   \n",
      "4584823          4.1 2011-12-16 23:15:00       -324.328375      -452.805418   \n",
      "4988718          7.3 2011-07-11 19:26:00         -0.108333     -2875.666330   \n",
      "\n",
      "         dropoff_longitude  dropoff_latitude  passenger_count  \n",
      "150559          -73.953600         40.787998                1  \n",
      "436233        -3383.296608      -2559.748913                1  \n",
      "543001         -554.918693        314.794180                1  \n",
      "1281413       -2256.421232      -1185.391185                1  \n",
      "1340837       -1281.933787       -104.637653                1  \n",
      "1388984        2842.474030       3345.917353                1  \n",
      "1606685        3382.125693      -1160.217295                1  \n",
      "1781778       -1659.514697       -821.904472                1  \n",
      "2035826        -567.531472      -2545.761383                1  \n",
      "2037003       -1265.146753        -16.566552                1  \n",
      "2612104         408.352392      -3488.079513                1  \n",
      "2862434        2072.104928       -834.462250                1  \n",
      "2921745        3457.622350      -2087.151477                1  \n",
      "2982842        2128.011715       -451.375667                1  \n",
      "2983841        3411.463838        -78.089012                1  \n",
      "3044791        1182.895748      -1390.934280                1  \n",
      "3102900         755.112072      -3271.296725                1  \n",
      "3229948        2497.105768       2589.499115                1  \n",
      "3263161       -3348.349457      -2092.738817                1  \n",
      "3501205       -3412.653087      -1753.034575                1  \n",
      "4127802        3063.346073       -501.733433                1  \n",
      "4167774       -1251.175890       -810.681445                1  \n",
      "4214024        2820.124643        -44.476612                1  \n",
      "4428674        2449.577505      -2164.047885                1  \n",
      "4584823        -324.328375       -452.805418                1  \n",
      "4988718         -74.001840         40.728355                2  \n",
      "         fare_amount     pickup_datetime  pickup_longitude  pickup_latitude  \\\n",
      "5686            3.30 2011-07-30 11:15:00        -73.947235       401.083332   \n",
      "174356          9.70 2011-11-21 21:36:00       2140.601160      1703.092772   \n",
      "272439          9.30 2011-04-23 02:55:00        -74.002497       405.350000   \n",
      "464025          6.90 2012-03-05 20:58:00        -73.994268       404.966667   \n",
      "505229          9.30 2012-03-05 21:08:00        -73.994268       404.966667   \n",
      "505583          8.50 2012-03-16 08:13:00        -73.994277       405.133332   \n",
      "688685         17.30 2012-03-22 21:40:00       2522.271325      2621.628430   \n",
      "708059          5.30 2012-05-24 22:44:00        -73.989188        91.266667   \n",
      "970268          5.70 2012-04-12 07:31:00        -73.957087       424.083332   \n",
      "1019868         7.70 2011-05-19 00:34:00        351.052520      1669.582038   \n",
      "1197804         7.30 2012-04-18 12:12:00        -73.962313       404.233332   \n",
      "1237988        49.80 2011-12-30 09:10:00      -3007.205450       284.006283   \n",
      "1258028         6.50 2012-01-16 12:53:00       1721.172660      1283.652605   \n",
      "1273485        12.50 2011-07-01 01:55:00       2417.411523       825.064365   \n",
      "1336834         8.50 2011-07-23 03:45:00       -322.866957      1222.118478   \n",
      "1456109         8.50 2011-09-01 09:48:00      -2647.971338       288.185538   \n",
      "1550620         8.10 2012-02-03 14:52:00        -73.986027       404.966667   \n",
      "1557985         7.30 2011-08-08 22:20:00         40.658090       317.580350   \n",
      "1560654         6.10 2011-12-27 08:23:00      -2973.644717      2009.266280   \n",
      "1607336         6.10 2011-12-17 08:33:00        -73.980335       405.416667   \n",
      "1638837        38.27 2010-06-25 16:12:00        -74.051058      1963.515858   \n",
      "1669971         5.30 2012-02-22 19:27:00        -73.967842       405.583332   \n",
      "1724830         7.50 2013-03-22 22:31:00          0.000000       403.989227   \n",
      "1726057         8.10 2012-03-01 22:40:00       2856.441560      1320.026188   \n",
      "1813945         6.50 2013-02-26 05:52:00        -73.961663       405.150000   \n",
      "2046928         4.50 2010-06-30 10:05:00        -74.051058      1963.515858   \n",
      "2062574         6.50 2012-06-27 11:57:00        -73.969907       401.200000   \n",
      "2326738         4.90 2011-05-22 04:58:00       2505.494292      2609.040652   \n",
      "2412940         5.30 2012-01-31 15:15:00      -1280.544035      2912.464657   \n",
      "2507283         4.50 2011-11-26 17:44:00       3439.425565       882.395903   \n",
      "2704732         4.90 2012-06-21 18:45:00        -73.963397       405.066667   \n",
      "2714317        49.80 2012-06-25 17:55:00        -73.801325       400.933332   \n",
      "2749177         4.50 2011-07-03 07:55:00      -3426.608950      1605.243395   \n",
      "2849369         8.50 2012-06-13 05:45:00        -73.951385       401.066667   \n",
      "3210527         4.10 2012-01-21 22:48:00        -73.959510       405.550000   \n",
      "3290851         7.70 2012-04-04 09:18:00        -73.976837       405.350000   \n",
      "3321276        12.10 2012-04-24 08:56:00        -73.976072       404.700000   \n",
      "3610041         5.30 2011-12-16 02:02:00      -2241.045617      2562.903807   \n",
      "3782950        15.70 2010-06-27 13:31:00        -74.051058      1963.515858   \n",
      "3825373        16.00 2013-01-27 14:54:00          0.000000      2210.174975   \n",
      "3863187         9.30 2012-08-15 14:27:00        -73.968455       404.779255   \n",
      "3915443         7.30 2010-08-12 16:33:04        -73.986117       442.450000   \n",
      "3929953         6.90 2011-09-05 02:24:00      -2029.891835      2616.101090   \n",
      "3960771         4.10 2012-05-29 22:59:00        -73.986735       404.883332   \n",
      "4096035        12.50 2012-05-07 09:33:00        -73.950243       410.333332   \n",
      "4188945        12.50 2011-12-01 23:48:00        457.282073      2603.483312   \n",
      "4331898         9.30 2012-02-18 21:22:00         -0.091667       405.609932   \n",
      "4337924        14.50 2012-02-09 21:38:00        -74.005152       475.816667   \n",
      "4377292        14.90 2011-11-17 23:33:00      -1272.160512      1684.912653   \n",
      "4466848        10.50 2011-07-12 22:11:00         61.626045      1282.271187   \n",
      "4566933         3.70 2011-10-06 15:39:00        -74.002867       404.666667   \n",
      "4576367        12.00 2013-01-12 19:38:00          0.000000      3310.364462   \n",
      "4686584        49.80 2012-06-16 13:22:00        -73.781498      2977.030610   \n",
      "4728567         4.10 2011-05-27 14:53:00        791.455642       934.150088   \n",
      "4737255         8.50 2012-02-26 03:17:00        -74.005532       409.333332   \n",
      "4783288        12.90 2012-04-13 23:05:00        -73.970702       404.983332   \n",
      "4803810        10.50 2010-07-02 02:14:00        -74.051058      1963.515858   \n",
      "4846357         7.70 2011-12-07 20:07:00        -73.982960       405.183332   \n",
      "\n",
      "         dropoff_longitude  dropoff_latitude  passenger_count  \n",
      "5686            -73.951392         40.778927                1  \n",
      "174356        -1251.195890      -1189.615440                1  \n",
      "272439          -73.978600         40.739962                1  \n",
      "464025          -73.973857         40.755457                1  \n",
      "505229          -73.986387         40.776895                1  \n",
      "505583          -73.956763         40.783737                1  \n",
      "688685        -1718.117653      -2864.471003                1  \n",
      "708059          -73.982362         40.763105                1  \n",
      "970268          -73.968312         40.765117                1  \n",
      "1019868        1717.003405       1989.728077                1  \n",
      "1197804         -73.969750         40.763007                1  \n",
      "1237988        -844.140168       2950.087992                1  \n",
      "1258028        2469.149042       2193.823087                1  \n",
      "1273485        2537.705273       3305.291182                1  \n",
      "1336834         448.905230      -3461.540872                1  \n",
      "1456109       -2647.971338        288.185538                1  \n",
      "1550620         -73.984325         40.743397                1  \n",
      "1557985          40.658090        317.580350                1  \n",
      "1560654       -2913.518675      -3092.393485                1  \n",
      "1607336         -73.986982         40.756322                4  \n",
      "1638837         -74.051058       1963.515858                1  \n",
      "1669971         -73.958167         40.772747                4  \n",
      "1724830           0.000000          0.000000                1  \n",
      "1726057        3414.306675       1248.743787                1  \n",
      "1813945         -73.973698         40.757122                6  \n",
      "2046928         -74.051058       1963.515858                1  \n",
      "2062574         -73.952783         40.764437                2  \n",
      "2326738        2425.813367      -2892.472730                1  \n",
      "2412940        2523.682743       1633.190122                1  \n",
      "2507283       -2914.933427      -2454.875778                1  \n",
      "2704732         -73.953223         40.783597                1  \n",
      "2714317         -73.952617         40.741557                2  \n",
      "2749177       -3408.430498      -1155.996373                1  \n",
      "2849369         -73.982110         40.754117                1  \n",
      "3210527         -73.951890         40.781617                1  \n",
      "3290851         -73.986567         40.755392                1  \n",
      "3321276         -74.006337         40.704107                6  \n",
      "3610041       -1284.749957       1638.747475                1  \n",
      "3782950         -74.051058       1963.515858                1  \n",
      "3825373         -73.775018         40.685262                2  \n",
      "3863187          -1.650000          0.000000                6  \n",
      "3915443         -73.971112         40.750870                1  \n",
      "3929953       -2029.891835       2616.101090                1  \n",
      "3960771         -73.991190         40.750182                1  \n",
      "4096035         -73.977960         40.763557                1  \n",
      "4188945        2161.549115      -2189.261775                1  \n",
      "4331898         -73.940475         40.819608                1  \n",
      "4337924         -73.972207         40.670202                1  \n",
      "4377292       -1272.160512       1684.912653                1  \n",
      "4466848       -3047.714955       2561.559055                1  \n",
      "4566933         -73.997507         40.754140                1  \n",
      "4576367         -74.003798         40.738403                1  \n",
      "4686584         -73.985595         40.759410                1  \n",
      "4728567         791.455642        934.150088                1  \n",
      "4737255         -74.001397         40.719977                2  \n",
      "4783288         -73.929950         40.773492                1  \n",
      "4803810         -74.051058       1963.515858                1  \n",
      "4846357         -73.979582         40.755290                1  \n"
     ]
    }
   ],
   "source": [
    "print(train[train['pickup_latitude']<-90])\n",
    "print(train[train['pickup_latitude']>90])\n"
   ]
  },
  {
   "cell_type": "code",
   "execution_count": 34,
   "metadata": {},
   "outputs": [
    {
     "data": {
      "text/plain": [
       "(4999662, 7)"
      ]
     },
     "execution_count": 34,
     "metadata": {},
     "output_type": "execute_result"
    }
   ],
   "source": [
    "#drop it like its hot\n",
    "train = train.drop(((train[train['pickup_latitude']<-90])|(train[train['pickup_latitude']>90])).index, axis=0)\n",
    "train.shape\n"
   ]
  },
  {
   "cell_type": "code",
   "execution_count": 35,
   "metadata": {},
   "outputs": [
    {
     "data": {
      "text/plain": [
       "count    4.999662e+06\n",
       "mean    -7.250481e+01\n",
       "std      1.104701e+01\n",
       "min     -2.970874e+03\n",
       "25%     -7.399206e+01\n",
       "50%     -7.398181e+01\n",
       "75%     -7.396711e+01\n",
       "max      2.814476e+03\n",
       "Name: pickup_longitude, dtype: float64"
      ]
     },
     "execution_count": 35,
     "metadata": {},
     "output_type": "execute_result"
    }
   ],
   "source": [
    "train['pickup_longitude'].describe()\n"
   ]
  },
  {
   "cell_type": "code",
   "execution_count": 36,
   "metadata": {},
   "outputs": [
    {
     "data": {
      "text/plain": [
       "(4999610, 7)"
      ]
     },
     "execution_count": 36,
     "metadata": {},
     "output_type": "execute_result"
    }
   ],
   "source": [
    "train[train['pickup_longitude']<-180]\n",
    "train[train['pickup_longitude']>180]\n",
    "## drop it like its hot\n",
    "train = train.drop(((train[train['pickup_longitude']<-180])|(train[train['pickup_longitude']>180])).index, axis=0)\n",
    "train.shape"
   ]
  },
  {
   "cell_type": "code",
   "execution_count": 37,
   "metadata": {},
   "outputs": [
    {
     "data": {
      "text/html": [
       "<div>\n",
       "<style scoped>\n",
       "    .dataframe tbody tr th:only-of-type {\n",
       "        vertical-align: middle;\n",
       "    }\n",
       "\n",
       "    .dataframe tbody tr th {\n",
       "        vertical-align: top;\n",
       "    }\n",
       "\n",
       "    .dataframe thead th {\n",
       "        text-align: right;\n",
       "    }\n",
       "</style>\n",
       "<table border=\"1\" class=\"dataframe\">\n",
       "  <thead>\n",
       "    <tr style=\"text-align: right;\">\n",
       "      <th></th>\n",
       "      <th>fare_amount</th>\n",
       "      <th>pickup_datetime</th>\n",
       "      <th>pickup_longitude</th>\n",
       "      <th>pickup_latitude</th>\n",
       "      <th>dropoff_longitude</th>\n",
       "      <th>dropoff_latitude</th>\n",
       "      <th>passenger_count</th>\n",
       "    </tr>\n",
       "  </thead>\n",
       "  <tbody>\n",
       "  </tbody>\n",
       "</table>\n",
       "</div>"
      ],
      "text/plain": [
       "Empty DataFrame\n",
       "Columns: [fare_amount, pickup_datetime, pickup_longitude, pickup_latitude, dropoff_longitude, dropoff_latitude, passenger_count]\n",
       "Index: []"
      ]
     },
     "execution_count": 37,
     "metadata": {},
     "output_type": "execute_result"
    }
   ],
   "source": [
    "train = train.drop(((train[train['dropoff_latitude']<-90])|(train[train['dropoff_latitude']>90])).index, axis=0)\n",
    "train[train['dropoff_latitude']<-180]|train[train['dropoff_latitude']>180]\n"
   ]
  },
  {
   "cell_type": "code",
   "execution_count": 40,
   "metadata": {},
   "outputs": [
    {
     "data": {
      "text/plain": [
       "fare_amount                 float64\n",
       "pickup_datetime      datetime64[ns]\n",
       "pickup_longitude            float64\n",
       "pickup_latitude             float64\n",
       "dropoff_longitude           float64\n",
       "dropoff_latitude            float64\n",
       "passenger_count               int64\n",
       "dtype: object"
      ]
     },
     "execution_count": 40,
     "metadata": {},
     "output_type": "execute_result"
    }
   ],
   "source": [
    "train.dtypes"
   ]
  },
  {
   "cell_type": "code",
   "execution_count": 41,
   "metadata": {},
   "outputs": [],
   "source": [
    "train['year'] = pd.DatetimeIndex(train['pickup_datetime']).year\n",
    "train['month'] = pd.DatetimeIndex(train['pickup_datetime']).month\n",
    "train['WeekDay'] = pd.DatetimeIndex(train['pickup_datetime']).dayofweek\n",
    "train['hour'] = pd.DatetimeIndex(train['pickup_datetime']).hour"
   ]
  },
  {
   "cell_type": "code",
   "execution_count": 63,
   "metadata": {},
   "outputs": [
    {
     "data": {
      "text/plain": [
       "WeekDay  year\n",
       "0        2009     96909\n",
       "         2010     95605\n",
       "         2011    103410\n",
       "         2012    104193\n",
       "         2013    101581\n",
       "         2014     95225\n",
       "         2015     44215\n",
       "1        2009    109863\n",
       "         2010    105325\n",
       "         2011    113919\n",
       "         2012    110799\n",
       "         2013    110517\n",
       "         2014    102688\n",
       "         2015     47154\n",
       "2        2009    112090\n",
       "         2010    110166\n",
       "         2011    116535\n",
       "         2012    115248\n",
       "         2013    112046\n",
       "         2014    109295\n",
       "         2015     48329\n",
       "3        2009    118890\n",
       "         2010    113335\n",
       "         2011    120455\n",
       "         2012    120328\n",
       "         2013    115337\n",
       "         2014    108750\n",
       "         2015     51853\n",
       "4        2009    121223\n",
       "         2010    117279\n",
       "         2011    122948\n",
       "         2012    123956\n",
       "         2013    119341\n",
       "         2014    112045\n",
       "         2015     54357\n",
       "5        2009    113971\n",
       "         2010    112630\n",
       "         2011    120839\n",
       "         2012    122777\n",
       "         2013    118312\n",
       "         2014    114433\n",
       "         2015     55529\n",
       "6        2009     98095\n",
       "         2010     99174\n",
       "         2011     99845\n",
       "         2012    107884\n",
       "         2013    103168\n",
       "         2014    100930\n",
       "         2015     47204\n",
       "dtype: int64"
      ]
     },
     "execution_count": 63,
     "metadata": {},
     "output_type": "execute_result"
    }
   ],
   "source": [
    "train.groupby(['WeekDay','year']).size()"
   ]
  },
  {
   "cell_type": "code",
   "execution_count": 43,
   "metadata": {},
   "outputs": [
    {
     "data": {
      "text/plain": [
       "Text(0,0.5,'Count')"
      ]
     },
     "execution_count": 43,
     "metadata": {},
     "output_type": "execute_result"
    },
    {
     "data": {
      "image/png": "[encoded data removed]",
      "text/plain": [
       "<Figure size 432x288 with 1 Axes>"
      ]
     },
     "metadata": {
      "needs_background": "light"
     },
     "output_type": "display_data"
    }
   ],
   "source": [
    "train['hour'].value_counts().plot.bar(color = 'b', edgecolor = 'k');\n",
    "plt.title('Trips made per Year'); plt.xlabel('Years'); plt.ylabel('Count')"
   ]
  },
  {
   "cell_type": "code",
   "execution_count": 44,
   "metadata": {},
   "outputs": [
    {
     "name": "stderr",
     "output_type": "stream",
     "text": [
      "C:\\Users\\v-ashkha\\AppData\\Local\\Continuum\\anaconda3\\lib\\site-packages\\scipy\\stats\\stats.py:1713: FutureWarning: Using a non-tuple sequence for multidimensional indexing is deprecated; use `arr[tuple(seq)]` instead of `arr[seq]`. In the future this will be interpreted as an array index, `arr[np.array(seq)]`, which will result either in an error or a different result.\n",
      "  return np.add.reduce(sorted[indexer] * weights, axis=axis) / sumval\n"
     ]
    },
    {
     "data": {
      "text/plain": [
       "<matplotlib.axes._subplots.AxesSubplot at 0x23a9bb326d8>"
      ]
     },
     "execution_count": 44,
     "metadata": {},
     "output_type": "execute_result"
    },
    {
     "data": {
      "image/png": "[encoded data removed]",
      "text/plain": [
       "<Figure size 432x288 with 1 Axes>"
      ]
     },
     "metadata": {
      "needs_background": "light"
     },
     "output_type": "display_data"
    }
   ],
   "source": [
    "sns.barplot(train['hour'],train['passenger_count'])"
   ]
  },
  {
   "cell_type": "code",
   "execution_count": 46,
   "metadata": {},
   "outputs": [
    {
     "data": {
      "image/png": "[encoded data removed]",
      "text/plain": [
       "<Figure size 432x288 with 1 Axes>"
      ]
     },
     "metadata": {
      "needs_background": "light"
     },
     "output_type": "display_data"
    }
   ],
   "source": [
    "train['passenger_count'].value_counts().plot.bar(color = 'b');"
   ]
  },
  {
   "cell_type": "code",
   "execution_count": 47,
   "metadata": {},
   "outputs": [],
   "source": [
    "# Absolute difference in latitude and longitude\n",
    "train['abs_lat_diff'] = (train['dropoff_latitude'] - train['pickup_latitude']).abs()\n",
    "train['abs_lon_diff'] = (train['dropoff_longitude'] - train['pickup_longitude']).abs()\n"
   ]
  },
  {
   "cell_type": "code",
   "execution_count": 48,
   "metadata": {},
   "outputs": [
    {
     "data": {
      "image/png": "[encoded data removed]",
      "text/plain": [
       "<Figure size 360x360 with 1 Axes>"
      ]
     },
     "metadata": {
      "needs_background": "light"
     },
     "output_type": "display_data"
    }
   ],
   "source": [
    "sns.lmplot('abs_lat_diff', 'abs_lon_diff', fit_reg = False,\n",
    "           data = train.sample(100000, random_state=1010));\n",
    "plt.title('Absolute latitude difference vs Absolute longitude difference');"
   ]
  },
  {
   "cell_type": "code",
   "execution_count": 49,
   "metadata": {},
   "outputs": [],
   "source": [
    "def minkowski_distance(x1, x2, y1, y2, p):\n",
    "    return ((abs(x2 - x1) ** p) + (abs(y2 \n",
    "                                       - y1)) ** p) ** (1 / p)"
   ]
  },
  {
   "cell_type": "code",
   "execution_count": 50,
   "metadata": {},
   "outputs": [],
   "source": [
    "train['manhattan'] = minkowski_distance(train['pickup_longitude'], train['dropoff_longitude'],\n",
    "                                       train['pickup_latitude'], train['dropoff_latitude'], 1)\n",
    "\n",
    "train['euclidean'] = minkowski_distance(train['pickup_longitude'], train['dropoff_longitude'],\n",
    "                                       train['pickup_latitude'], train['dropoff_latitude'], 2)\n",
    "\n",
    "\n"
   ]
  },
  {
   "cell_type": "code",
   "execution_count": 51,
   "metadata": {},
   "outputs": [
    {
     "data": {
      "text/html": [
       "<div>\n",
       "<style scoped>\n",
       "    .dataframe tbody tr th:only-of-type {\n",
       "        vertical-align: middle;\n",
       "    }\n",
       "\n",
       "    .dataframe tbody tr th {\n",
       "        vertical-align: top;\n",
       "    }\n",
       "\n",
       "    .dataframe thead th {\n",
       "        text-align: right;\n",
       "    }\n",
       "</style>\n",
       "<table border=\"1\" class=\"dataframe\">\n",
       "  <thead>\n",
       "    <tr style=\"text-align: right;\">\n",
       "      <th></th>\n",
       "      <th></th>\n",
       "      <th>mean</th>\n",
       "      <th>count</th>\n",
       "    </tr>\n",
       "    <tr>\n",
       "      <th>year</th>\n",
       "      <th>passenger_count</th>\n",
       "      <th></th>\n",
       "      <th></th>\n",
       "    </tr>\n",
       "  </thead>\n",
       "  <tbody>\n",
       "    <tr>\n",
       "      <th rowspan=\"7\" valign=\"top\">2009</th>\n",
       "      <th>0</th>\n",
       "      <td>6.875000</td>\n",
       "      <td>4</td>\n",
       "    </tr>\n",
       "    <tr>\n",
       "      <th>1</th>\n",
       "      <td>9.924500</td>\n",
       "      <td>523591</td>\n",
       "    </tr>\n",
       "    <tr>\n",
       "      <th>2</th>\n",
       "      <td>10.477019</td>\n",
       "      <td>124538</td>\n",
       "    </tr>\n",
       "    <tr>\n",
       "      <th>3</th>\n",
       "      <td>10.220603</td>\n",
       "      <td>35352</td>\n",
       "    </tr>\n",
       "    <tr>\n",
       "      <th>4</th>\n",
       "      <td>10.441686</td>\n",
       "      <td>17152</td>\n",
       "    </tr>\n",
       "    <tr>\n",
       "      <th>5</th>\n",
       "      <td>10.067483</td>\n",
       "      <td>67096</td>\n",
       "    </tr>\n",
       "    <tr>\n",
       "      <th>6</th>\n",
       "      <td>9.893163</td>\n",
       "      <td>3304</td>\n",
       "    </tr>\n",
       "    <tr>\n",
       "      <th rowspan=\"8\" valign=\"top\">2010</th>\n",
       "      <th>0</th>\n",
       "      <td>8.222013</td>\n",
       "      <td>159</td>\n",
       "    </tr>\n",
       "    <tr>\n",
       "      <th>1</th>\n",
       "      <td>10.021829</td>\n",
       "      <td>516468</td>\n",
       "    </tr>\n",
       "    <tr>\n",
       "      <th>2</th>\n",
       "      <td>10.566442</td>\n",
       "      <td>118896</td>\n",
       "    </tr>\n",
       "    <tr>\n",
       "      <th>3</th>\n",
       "      <td>10.340348</td>\n",
       "      <td>34241</td>\n",
       "    </tr>\n",
       "    <tr>\n",
       "      <th>4</th>\n",
       "      <td>10.524500</td>\n",
       "      <td>16689</td>\n",
       "    </tr>\n",
       "    <tr>\n",
       "      <th>5</th>\n",
       "      <td>10.231759</td>\n",
       "      <td>63878</td>\n",
       "    </tr>\n",
       "    <tr>\n",
       "      <th>6</th>\n",
       "      <td>9.754120</td>\n",
       "      <td>3092</td>\n",
       "    </tr>\n",
       "    <tr>\n",
       "      <th>51</th>\n",
       "      <td>9.300000</td>\n",
       "      <td>1</td>\n",
       "    </tr>\n",
       "    <tr>\n",
       "      <th rowspan=\"8\" valign=\"top\">2011</th>\n",
       "      <th>0</th>\n",
       "      <td>9.010122</td>\n",
       "      <td>11519</td>\n",
       "    </tr>\n",
       "    <tr>\n",
       "      <th>1</th>\n",
       "      <td>10.336806</td>\n",
       "      <td>540986</td>\n",
       "    </tr>\n",
       "    <tr>\n",
       "      <th>2</th>\n",
       "      <td>10.883534</td>\n",
       "      <td>122644</td>\n",
       "    </tr>\n",
       "    <tr>\n",
       "      <th>3</th>\n",
       "      <td>10.633792</td>\n",
       "      <td>36098</td>\n",
       "    </tr>\n",
       "    <tr>\n",
       "      <th>4</th>\n",
       "      <td>10.906356</td>\n",
       "      <td>17235</td>\n",
       "    </tr>\n",
       "    <tr>\n",
       "      <th>5</th>\n",
       "      <td>10.482053</td>\n",
       "      <td>62395</td>\n",
       "    </tr>\n",
       "    <tr>\n",
       "      <th>6</th>\n",
       "      <td>10.608771</td>\n",
       "      <td>7016</td>\n",
       "    </tr>\n",
       "    <tr>\n",
       "      <th>129</th>\n",
       "      <td>8.500000</td>\n",
       "      <td>1</td>\n",
       "    </tr>\n",
       "    <tr>\n",
       "      <th rowspan=\"7\" valign=\"top\">2012</th>\n",
       "      <th>0</th>\n",
       "      <td>8.867780</td>\n",
       "      <td>5720</td>\n",
       "    </tr>\n",
       "    <tr>\n",
       "      <th>1</th>\n",
       "      <td>11.052421</td>\n",
       "      <td>558460</td>\n",
       "    </tr>\n",
       "    <tr>\n",
       "      <th>2</th>\n",
       "      <td>11.745267</td>\n",
       "      <td>112792</td>\n",
       "    </tr>\n",
       "    <tr>\n",
       "      <th>3</th>\n",
       "      <td>11.423044</td>\n",
       "      <td>34652</td>\n",
       "    </tr>\n",
       "    <tr>\n",
       "      <th>4</th>\n",
       "      <td>11.650622</td>\n",
       "      <td>16723</td>\n",
       "    </tr>\n",
       "    <tr>\n",
       "      <th>5</th>\n",
       "      <td>11.153250</td>\n",
       "      <td>54760</td>\n",
       "    </tr>\n",
       "    <tr>\n",
       "      <th>6</th>\n",
       "      <td>11.480210</td>\n",
       "      <td>21963</td>\n",
       "    </tr>\n",
       "    <tr>\n",
       "      <th rowspan=\"7\" valign=\"top\">2013</th>\n",
       "      <th>0</th>\n",
       "      <td>24.433333</td>\n",
       "      <td>3</td>\n",
       "    </tr>\n",
       "    <tr>\n",
       "      <th>1</th>\n",
       "      <td>12.433648</td>\n",
       "      <td>549971</td>\n",
       "    </tr>\n",
       "    <tr>\n",
       "      <th>2</th>\n",
       "      <td>13.284985</td>\n",
       "      <td>105950</td>\n",
       "    </tr>\n",
       "    <tr>\n",
       "      <th>3</th>\n",
       "      <td>12.975697</td>\n",
       "      <td>32761</td>\n",
       "    </tr>\n",
       "    <tr>\n",
       "      <th>4</th>\n",
       "      <td>13.185060</td>\n",
       "      <td>16228</td>\n",
       "    </tr>\n",
       "    <tr>\n",
       "      <th>5</th>\n",
       "      <td>12.691748</td>\n",
       "      <td>45043</td>\n",
       "    </tr>\n",
       "    <tr>\n",
       "      <th>6</th>\n",
       "      <td>12.453668</td>\n",
       "      <td>30311</td>\n",
       "    </tr>\n",
       "    <tr>\n",
       "      <th rowspan=\"8\" valign=\"top\">2014</th>\n",
       "      <th>0</th>\n",
       "      <td>20.155806</td>\n",
       "      <td>31</td>\n",
       "    </tr>\n",
       "    <tr>\n",
       "      <th>1</th>\n",
       "      <td>12.718825</td>\n",
       "      <td>523042</td>\n",
       "    </tr>\n",
       "    <tr>\n",
       "      <th>2</th>\n",
       "      <td>13.681061</td>\n",
       "      <td>104288</td>\n",
       "    </tr>\n",
       "    <tr>\n",
       "      <th>3</th>\n",
       "      <td>13.243039</td>\n",
       "      <td>31525</td>\n",
       "    </tr>\n",
       "    <tr>\n",
       "      <th>4</th>\n",
       "      <td>13.547274</td>\n",
       "      <td>15247</td>\n",
       "    </tr>\n",
       "    <tr>\n",
       "      <th>5</th>\n",
       "      <td>13.161790</td>\n",
       "      <td>41527</td>\n",
       "    </tr>\n",
       "    <tr>\n",
       "      <th>6</th>\n",
       "      <td>12.878314</td>\n",
       "      <td>27705</td>\n",
       "    </tr>\n",
       "    <tr>\n",
       "      <th>9</th>\n",
       "      <td>104.000000</td>\n",
       "      <td>1</td>\n",
       "    </tr>\n",
       "    <tr>\n",
       "      <th rowspan=\"9\" valign=\"top\">2015</th>\n",
       "      <th>0</th>\n",
       "      <td>10.774578</td>\n",
       "      <td>166</td>\n",
       "    </tr>\n",
       "    <tr>\n",
       "      <th>1</th>\n",
       "      <td>12.821488</td>\n",
       "      <td>246243</td>\n",
       "    </tr>\n",
       "    <tr>\n",
       "      <th>2</th>\n",
       "      <td>13.733324</td>\n",
       "      <td>49197</td>\n",
       "    </tr>\n",
       "    <tr>\n",
       "      <th>3</th>\n",
       "      <td>13.517663</td>\n",
       "      <td>14624</td>\n",
       "    </tr>\n",
       "    <tr>\n",
       "      <th>4</th>\n",
       "      <td>13.556121</td>\n",
       "      <td>6733</td>\n",
       "    </tr>\n",
       "    <tr>\n",
       "      <th>5</th>\n",
       "      <td>12.958268</td>\n",
       "      <td>19181</td>\n",
       "    </tr>\n",
       "    <tr>\n",
       "      <th>6</th>\n",
       "      <td>12.975155</td>\n",
       "      <td>12373</td>\n",
       "    </tr>\n",
       "    <tr>\n",
       "      <th>7</th>\n",
       "      <td>8.500000</td>\n",
       "      <td>1</td>\n",
       "    </tr>\n",
       "    <tr>\n",
       "      <th>9</th>\n",
       "      <td>37.040000</td>\n",
       "      <td>1</td>\n",
       "    </tr>\n",
       "  </tbody>\n",
       "</table>\n",
       "</div>"
      ],
      "text/plain": [
       "                            mean   count\n",
       "year passenger_count                    \n",
       "2009 0                  6.875000       4\n",
       "     1                  9.924500  523591\n",
       "     2                 10.477019  124538\n",
       "     3                 10.220603   35352\n",
       "     4                 10.441686   17152\n",
       "     5                 10.067483   67096\n",
       "     6                  9.893163    3304\n",
       "2010 0                  8.222013     159\n",
       "     1                 10.021829  516468\n",
       "     2                 10.566442  118896\n",
       "     3                 10.340348   34241\n",
       "     4                 10.524500   16689\n",
       "     5                 10.231759   63878\n",
       "     6                  9.754120    3092\n",
       "     51                 9.300000       1\n",
       "2011 0                  9.010122   11519\n",
       "     1                 10.336806  540986\n",
       "     2                 10.883534  122644\n",
       "     3                 10.633792   36098\n",
       "     4                 10.906356   17235\n",
       "     5                 10.482053   62395\n",
       "     6                 10.608771    7016\n",
       "     129                8.500000       1\n",
       "2012 0                  8.867780    5720\n",
       "     1                 11.052421  558460\n",
       "     2                 11.745267  112792\n",
       "     3                 11.423044   34652\n",
       "     4                 11.650622   16723\n",
       "     5                 11.153250   54760\n",
       "     6                 11.480210   21963\n",
       "2013 0                 24.433333       3\n",
       "     1                 12.433648  549971\n",
       "     2                 13.284985  105950\n",
       "     3                 12.975697   32761\n",
       "     4                 13.185060   16228\n",
       "     5                 12.691748   45043\n",
       "     6                 12.453668   30311\n",
       "2014 0                 20.155806      31\n",
       "     1                 12.718825  523042\n",
       "     2                 13.681061  104288\n",
       "     3                 13.243039   31525\n",
       "     4                 13.547274   15247\n",
       "     5                 13.161790   41527\n",
       "     6                 12.878314   27705\n",
       "     9                104.000000       1\n",
       "2015 0                 10.774578     166\n",
       "     1                 12.821488  246243\n",
       "     2                 13.733324   49197\n",
       "     3                 13.517663   14624\n",
       "     4                 13.556121    6733\n",
       "     5                 12.958268   19181\n",
       "     6                 12.975155   12373\n",
       "     7                  8.500000       1\n",
       "     9                 37.040000       1"
      ]
     },
     "execution_count": 51,
     "metadata": {},
     "output_type": "execute_result"
    }
   ],
   "source": [
    "train.groupby(['year','passenger_count'])['fare_amount'].agg(['mean', 'count'])"
   ]
  },
  {
   "cell_type": "code",
   "execution_count": 93,
   "metadata": {
    "scrolled": true
   },
   "outputs": [
    {
     "data": {
      "image/png": "[encoded data removed]",
      "text/plain": [
       "<Figure size 864x864 with 2 Axes>"
      ]
     },
     "metadata": {
      "needs_background": "light"
     },
     "output_type": "display_data"
    }
   ],
   "source": [
    "corrs = train.corr()\n",
    "\n",
    "plt.figure(figsize = (12, 12))\n",
    "sns.heatmap(corrs, annot = True, vmin = -1, vmax = 1, fmt = '.3f', cmap=plt.cm.PiYG_r);\n"
   ]
  },
  {
   "cell_type": "code",
   "execution_count": 56,
   "metadata": {},
   "outputs": [
    {
     "name": "stdout",
     "output_type": "stream",
     "text": [
      "(4999577, 15)\n"
     ]
    },
    {
     "data": {
      "image/png": "[encoded data removed]",
      "text/plain": [
       "<Figure size 432x288 with 1 Axes>"
      ]
     },
     "metadata": {
      "needs_background": "light"
     },
     "output_type": "display_data"
    }
   ],
   "source": [
    "corrs = train.corr()\n",
    "corrs['fare_amount'].plot.bar(color = 'b');\n",
    "plt.title('Correlation with Fare Amount');\n",
    "print(train.shape)"
   ]
  },
  {
   "cell_type": "code",
   "execution_count": 54,
   "metadata": {},
   "outputs": [
    {
     "name": "stdout",
     "output_type": "stream",
     "text": [
      "Index(['key', 'pickup_datetime', 'pickup_longitude', 'pickup_latitude',\n",
      "       'dropoff_longitude', 'dropoff_latitude', 'passenger_count',\n",
      "       'abs_lat_diff', 'abs_lon_diff', 'year', 'month', 'WeekDay', 'hour'],\n",
      "      dtype='object')\n"
     ]
    }
   ],
   "source": [
    "#Test data\n",
    "\n",
    "test = pd.read_csv('new-york-city-taxi-fare-prediction/test.csv', parse_dates = ['pickup_datetime'])\n",
    "\n",
    "# Create absolute differences\n",
    "test['abs_lat_diff'] = (test['dropoff_latitude'] - test['pickup_latitude']).abs()\n",
    "test['abs_lon_diff'] = (test['dropoff_longitude'] - test['pickup_longitude']).abs()\n",
    "\n",
    "test['year'] = pd.DatetimeIndex(test['pickup_datetime']).year\n",
    "test['month'] = pd.DatetimeIndex(test['pickup_datetime']).month\n",
    "test['WeekDay'] = pd.DatetimeIndex(test['pickup_datetime']).dayofweek\n",
    "test['hour'] = pd.DatetimeIndex(test['pickup_datetime']).hour\n",
    "print(test.columns)"
   ]
  },
  {
   "cell_type": "code",
   "execution_count": 55,
   "metadata": {},
   "outputs": [
    {
     "name": "stdout",
     "output_type": "stream",
     "text": [
      "(9914, 13)\n"
     ]
    },
    {
     "data": {
      "text/html": [
       "<div>\n",
       "<style scoped>\n",
       "    .dataframe tbody tr th:only-of-type {\n",
       "        vertical-align: middle;\n",
       "    }\n",
       "\n",
       "    .dataframe tbody tr th {\n",
       "        vertical-align: top;\n",
       "    }\n",
       "\n",
       "    .dataframe thead th {\n",
       "        text-align: right;\n",
       "    }\n",
       "</style>\n",
       "<table border=\"1\" class=\"dataframe\">\n",
       "  <thead>\n",
       "    <tr style=\"text-align: right;\">\n",
       "      <th></th>\n",
       "      <th>key</th>\n",
       "      <th>pickup_datetime</th>\n",
       "      <th>pickup_longitude</th>\n",
       "      <th>pickup_latitude</th>\n",
       "      <th>dropoff_longitude</th>\n",
       "      <th>dropoff_latitude</th>\n",
       "      <th>passenger_count</th>\n",
       "      <th>abs_lat_diff</th>\n",
       "      <th>abs_lon_diff</th>\n",
       "      <th>year</th>\n",
       "      <th>month</th>\n",
       "      <th>WeekDay</th>\n",
       "      <th>hour</th>\n",
       "    </tr>\n",
       "  </thead>\n",
       "  <tbody>\n",
       "    <tr>\n",
       "      <th>0</th>\n",
       "      <td>2015-01-27 13:08:24.0000002</td>\n",
       "      <td>2015-01-27 13:08:24</td>\n",
       "      <td>-73.973320</td>\n",
       "      <td>40.763805</td>\n",
       "      <td>-73.981430</td>\n",
       "      <td>40.743835</td>\n",
       "      <td>1</td>\n",
       "      <td>0.019970</td>\n",
       "      <td>0.008110</td>\n",
       "      <td>2015</td>\n",
       "      <td>1</td>\n",
       "      <td>1</td>\n",
       "      <td>13</td>\n",
       "    </tr>\n",
       "    <tr>\n",
       "      <th>1</th>\n",
       "      <td>2015-01-27 13:08:24.0000003</td>\n",
       "      <td>2015-01-27 13:08:24</td>\n",
       "      <td>-73.986862</td>\n",
       "      <td>40.719383</td>\n",
       "      <td>-73.998886</td>\n",
       "      <td>40.739201</td>\n",
       "      <td>1</td>\n",
       "      <td>0.019817</td>\n",
       "      <td>0.012024</td>\n",
       "      <td>2015</td>\n",
       "      <td>1</td>\n",
       "      <td>1</td>\n",
       "      <td>13</td>\n",
       "    </tr>\n",
       "    <tr>\n",
       "      <th>2</th>\n",
       "      <td>2011-10-08 11:53:44.0000002</td>\n",
       "      <td>2011-10-08 11:53:44</td>\n",
       "      <td>-73.982524</td>\n",
       "      <td>40.751260</td>\n",
       "      <td>-73.979654</td>\n",
       "      <td>40.746139</td>\n",
       "      <td>1</td>\n",
       "      <td>0.005121</td>\n",
       "      <td>0.002870</td>\n",
       "      <td>2011</td>\n",
       "      <td>10</td>\n",
       "      <td>5</td>\n",
       "      <td>11</td>\n",
       "    </tr>\n",
       "    <tr>\n",
       "      <th>3</th>\n",
       "      <td>2012-12-01 21:12:12.0000002</td>\n",
       "      <td>2012-12-01 21:12:12</td>\n",
       "      <td>-73.981160</td>\n",
       "      <td>40.767807</td>\n",
       "      <td>-73.990448</td>\n",
       "      <td>40.751635</td>\n",
       "      <td>1</td>\n",
       "      <td>0.016172</td>\n",
       "      <td>0.009288</td>\n",
       "      <td>2012</td>\n",
       "      <td>12</td>\n",
       "      <td>5</td>\n",
       "      <td>21</td>\n",
       "    </tr>\n",
       "    <tr>\n",
       "      <th>4</th>\n",
       "      <td>2012-12-01 21:12:12.0000003</td>\n",
       "      <td>2012-12-01 21:12:12</td>\n",
       "      <td>-73.966046</td>\n",
       "      <td>40.789775</td>\n",
       "      <td>-73.988565</td>\n",
       "      <td>40.744427</td>\n",
       "      <td>1</td>\n",
       "      <td>0.045348</td>\n",
       "      <td>0.022519</td>\n",
       "      <td>2012</td>\n",
       "      <td>12</td>\n",
       "      <td>5</td>\n",
       "      <td>21</td>\n",
       "    </tr>\n",
       "  </tbody>\n",
       "</table>\n",
       "</div>"
      ],
      "text/plain": [
       "                           key     pickup_datetime  pickup_longitude  \\\n",
       "0  2015-01-27 13:08:24.0000002 2015-01-27 13:08:24        -73.973320   \n",
       "1  2015-01-27 13:08:24.0000003 2015-01-27 13:08:24        -73.986862   \n",
       "2  2011-10-08 11:53:44.0000002 2011-10-08 11:53:44        -73.982524   \n",
       "3  2012-12-01 21:12:12.0000002 2012-12-01 21:12:12        -73.981160   \n",
       "4  2012-12-01 21:12:12.0000003 2012-12-01 21:12:12        -73.966046   \n",
       "\n",
       "   pickup_latitude  dropoff_longitude  dropoff_latitude  passenger_count  \\\n",
       "0        40.763805         -73.981430         40.743835                1   \n",
       "1        40.719383         -73.998886         40.739201                1   \n",
       "2        40.751260         -73.979654         40.746139                1   \n",
       "3        40.767807         -73.990448         40.751635                1   \n",
       "4        40.789775         -73.988565         40.744427                1   \n",
       "\n",
       "   abs_lat_diff  abs_lon_diff  year  month  WeekDay  hour  \n",
       "0      0.019970      0.008110  2015      1        1    13  \n",
       "1      0.019817      0.012024  2015      1        1    13  \n",
       "2      0.005121      0.002870  2011     10        5    11  \n",
       "3      0.016172      0.009288  2012     12        5    21  \n",
       "4      0.045348      0.022519  2012     12        5    21  "
      ]
     },
     "execution_count": 55,
     "metadata": {},
     "output_type": "execute_result"
    }
   ],
   "source": [
    "print(test.shape)\n",
    "test.head(5)"
   ]
  },
  {
   "cell_type": "code",
   "execution_count": 57,
   "metadata": {},
   "outputs": [],
   "source": [
    "test['manhattan'] = minkowski_distance(test['pickup_longitude'], test['dropoff_longitude'],\n",
    "                                       test['pickup_latitude'], test['dropoff_latitude'], 1)\n",
    "\n",
    "test['euclidean'] = minkowski_distance(test['pickup_longitude'], test['dropoff_longitude'],\n",
    "                                       test['pickup_latitude'], test['dropoff_latitude'], 2)"
   ]
  },
  {
   "cell_type": "markdown",
   "metadata": {},
   "source": [
    "# Calculate Distance between points using Haversine distance\n",
    "To calculate a more realistic distance between the pickup and dropoff, we can use the Haversine distance. This is the Great Circle distance, representing the shortest distance along the surface of the Earth connecting two points taking into account the fact that the Earth is a sphere (or so I'm told). It's not the best measure because the taxis do not travel along lines, but it's more accurate in terms of an absolute distance than the Manhattan and Euclidean distances made from the absolute latitude and longitude difference. The Manhattan and Euclidean distances are relative and do not take into account the spherical shape of the Earth.\n",
    "\n",
    "(We could convert the latitude and longitude into cartesian coordinates after establishing an origin. One option would be to use the center of the Earth and another would be to use the average of all coordinates in the data as an origin. Then, once we converted the points in this coordinate system, we could use the Manhattan and Euclidean formulas to find distances between points in kilometers. These are all approximations because we can't find the actual street distance.)\n",
    "\n",
    "The formula for Haversine distance is:\n",
    "\n",
    "=2rarcsin(sin2(φ2−φ12)+cos(φ1)cos(φ2)sin2(λ2−λ12)−−−−−−−−−−−−−−−−−−−−−−−−−−−−−−−−−−−−−−−√)\n",
    " \n",
    "where r is the radius of the Earth. The end units will be in km. My thanks go to this Stack Overflow answer: https://stackoverflow.com/a/29546836\n",
    "\n",
    "also from source code: https://www.kaggle.com/willkoehrsen/a-walkthrough-and-a-challenge#Data-Exploration-and-Data-Cleaning"
   ]
  },
  {
   "cell_type": "code",
   "execution_count": 58,
   "metadata": {},
   "outputs": [],
   "source": [
    "# Radius of the earth in kilometers\n",
    "R = 6378\n",
    "\n",
    "def haversine_np(lon1, lat1, lon2, lat2):\n",
    "    \"\"\"\n",
    "    Calculate the great circle distance between two points\n",
    "    on the earth (specified in decimal degrees)\n",
    "\n",
    "    All args must be of equal length.    \n",
    "    \n",
    "    source: https://stackoverflow.com/a/29546836\n",
    "\n",
    "    \"\"\"\n",
    "    # Convert latitude and longitude to radians\n",
    "    lon1, lat1, lon2, lat2 = map(np.radians, [lon1, lat1, lon2, lat2])\n",
    "\n",
    "    # Find the differences\n",
    "    dlon = lon2 - lon1\n",
    "    dlat = lat2 - lat1\n",
    "\n",
    "    # Apply the formula \n",
    "    a = np.sin(dlat/2.0)**2 + np.cos(lat1) * np.cos(lat2) * np.sin(dlon/2.0)**2\n",
    "    # Calculate the angle (in radians)\n",
    "    c = 2 * np.arcsin(np.sqrt(a))\n",
    "    # Convert to kilometers\n",
    "    km = R * c\n",
    "    \n",
    "    return km"
   ]
  },
  {
   "cell_type": "code",
   "execution_count": 59,
   "metadata": {},
   "outputs": [],
   "source": [
    "train['haversine'] =  haversine_np(train['pickup_longitude'], train['pickup_latitude'],\n",
    "                         train['dropoff_longitude'], train['dropoff_latitude']) \n",
    "\n",
    "test['haversine'] = haversine_np(test['pickup_longitude'], test['pickup_latitude'],\n",
    "                         test['dropoff_longitude'], test['dropoff_latitude'])"
   ]
  },
  {
   "cell_type": "markdown",
   "metadata": {},
   "source": [
    "ML algo"
   ]
  },
  {
   "cell_type": "code",
   "execution_count": 60,
   "metadata": {},
   "outputs": [],
   "source": [
    "from sklearn.linear_model import LinearRegression\n",
    "from sklearn.model_selection import train_test_split\n",
    "\n",
    "lr = LinearRegression()\n",
    "\n",
    "X_train, X_valid, y_train, y_valid = train_test_split(train, np.array(train['fare_amount']), \n",
    "                                                      random_state = 99, test_size = 1_000_000)\n"
   ]
  },
  {
   "cell_type": "code",
   "execution_count": 89,
   "metadata": {},
   "outputs": [
    {
     "name": "stdout",
     "output_type": "stream",
     "text": [
      "Intercept -1208.9921\n",
      "abs_lat_diff coef:  0.0002 \tabs_lon_diff coef: 0.0842\n"
     ]
    }
   ],
   "source": [
    "#lr.fit(X_train[['year','month','passenger_count','WeekDay']], y_train)\n",
    "lr.fit(X_train[['haversine', 'abs_lat_diff', 'abs_lon_diff', 'passenger_count','hour','year','manhattan','euclidean']], y_train)\n",
    "\n",
    "print('Intercept', round(lr.intercept_, 4))\n",
    "print('abs_lat_diff coef: ', round(lr.coef_[0], 4), \n",
    "      '\\tabs_lon_diff coef:', round(lr.coef_[1], 4))\n",
    "#'\\tpassenger_count coef:', round(lr.coef_[2], 4))\n",
    "\n",
    " \n",
    "train_pred = lr.predict(X_train[['haversine', 'abs_lat_diff', 'abs_lon_diff', 'passenger_count','hour','year','manhattan','euclidean']])\n",
    "valid_pred = lr.predict(X_valid[['haversine', 'abs_lat_diff', 'abs_lon_diff', 'passenger_count','hour','year','manhattan','euclidean']])\n"
   ]
  },
  {
   "cell_type": "code",
   "execution_count": 90,
   "metadata": {},
   "outputs": [
    {
     "name": "stdout",
     "output_type": "stream",
     "text": [
      "Training:   rmse = 9.76\n",
      "Validation: rmse = 9.7\n"
     ]
    }
   ],
   "source": [
    "train_rmse = np.sqrt(mean_squared_error(y_train, train_pred))\n",
    "\n",
    "valid_rmse = np.sqrt(mean_squared_error(y_valid, valid_pred))\n",
    "\n",
    "print(f'Training:   rmse = {round(train_rmse, 2)}')\n",
    "print(f'Validation: rmse = {round(valid_rmse, 2)}')\n",
    "#X_train = X_train.dropna(inplace=True)"
   ]
  },
  {
   "cell_type": "code",
   "execution_count": 73,
   "metadata": {},
   "outputs": [
    {
     "name": "stdout",
     "output_type": "stream",
     "text": [
      "Intercept 11.1631\n",
      "abs_lat_diff coef:  0.0001 \tabs_lon_diff coef: 0.1362 \tpassenger_count coef: -0.0017\n"
     ]
    },
    {
     "data": {
      "text/plain": [
       "fare_amount                 float64\n",
       "pickup_datetime      datetime64[ns]\n",
       "pickup_longitude            float64\n",
       "pickup_latitude             float64\n",
       "dropoff_longitude           float64\n",
       "dropoff_latitude            float64\n",
       "passenger_count               int64\n",
       "year                          int64\n",
       "month                         int64\n",
       "WeekDay                       int64\n",
       "hour                          int64\n",
       "abs_lat_diff                float64\n",
       "abs_lon_diff                float64\n",
       "manhattan                   float64\n",
       "euclidean                   float64\n",
       "haversine                   float64\n",
       "dtype: object"
      ]
     },
     "execution_count": 73,
     "metadata": {},
     "output_type": "execute_result"
    }
   ],
   "source": [
    "from sklearn.metrics import mean_squared_error\n",
    "import warnings\n",
    "warnings.filterwarnings('ignore', category = RuntimeWarning)\n",
    "\n",
    "\n",
    "print('Intercept', round(lr.intercept_, 4))\n",
    "print('abs_lat_diff coef: ', round(lr.coef_[0], 4), \n",
    "      '\\tabs_lon_diff coef:', round(lr.coef_[1], 4),     '\\tpassenger_count coef:', round(lr.coef_[2], 4))\n",
    "X_train.dtypes"
   ]
  },
  {
   "cell_type": "code",
   "execution_count": 91,
   "metadata": {},
   "outputs": [
    {
     "name": "stderr",
     "output_type": "stream",
     "text": [
      "[Parallel(n_jobs=10)]: Using backend ThreadingBackend with 10 concurrent workers.\n",
      "[Parallel(n_jobs=10)]: Done  20 out of  20 | elapsed:  5.9min finished\n",
      "C:\\Users\\v-ashkha\\AppData\\Local\\Continuum\\anaconda3\\lib\\site-packages\\sklearn\\ensemble\\_forest.py:815: UserWarning: Some inputs do not have OOB scores. This probably means too few trees were used to compute any reliable oob estimates.\n",
      "  warn(\"Some inputs do not have OOB scores. \"\n",
      "[Parallel(n_jobs=10)]: Using backend ThreadingBackend with 10 concurrent workers.\n",
      "[Parallel(n_jobs=10)]: Done  20 out of  20 | elapsed:   16.0s finished\n",
      "[Parallel(n_jobs=10)]: Using backend ThreadingBackend with 10 concurrent workers.\n",
      "[Parallel(n_jobs=10)]: Done  20 out of  20 | elapsed:    4.3s finished\n"
     ]
    }
   ],
   "source": [
    "from sklearn.ensemble import RandomForestRegressor\n",
    "\n",
    "# Create the random forest\n",
    "random_forest = RandomForestRegressor(n_estimators = 20, max_depth = 20, \n",
    "                                      max_features = None, oob_score = True, \n",
    "                                      bootstrap = True, verbose = 1, n_jobs = 10)\n",
    "\n",
    "random_forest.fit(X_train[['haversine', 'abs_lat_diff', 'abs_lon_diff', 'passenger_count','hour']], y_train)\n",
    "\n",
    "\n",
    "train_pred = random_forest.predict(X_train[['haversine', 'abs_lat_diff', 'abs_lon_diff', 'passenger_count','hour']])\n",
    "valid_pred = random_forest.predict(X_valid[['haversine', 'abs_lat_diff', 'abs_lon_diff', 'passenger_count','hour']])\n",
    "\n"
   ]
  },
  {
   "cell_type": "code",
   "execution_count": 92,
   "metadata": {},
   "outputs": [
    {
     "name": "stdout",
     "output_type": "stream",
     "text": [
      "Training:   rmse = 4.09\n",
      "Validation: rmse = 4.92\n",
      "Important feaures  [0.88397401 0.03204502 0.06069479 0.00516357 0.0181226 ]\n"
     ]
    }
   ],
   "source": [
    "train_rmse = np.sqrt(mean_squared_error(y_train, train_pred))\n",
    "\n",
    "valid_rmse = np.sqrt(mean_squared_error(y_valid, valid_pred))\n",
    "\n",
    "print(f'Training:   rmse = {round(train_rmse, 2)}')\n",
    "print(f'Validation: rmse = {round(valid_rmse, 2)}')\n",
    "print(\"Important feaures \",random_forest.feature_importances_)"
   ]
  },
  {
   "cell_type": "code",
   "execution_count": 79,
   "metadata": {},
   "outputs": [
    {
     "ename": "ModuleNotFoundError",
     "evalue": "No module named 'lightgbm'",
     "output_type": "error",
     "traceback": [
      "\u001b[1;31m---------------------------------------------------------------------------\u001b[0m",
      "\u001b[1;31mModuleNotFoundError\u001b[0m                       Traceback (most recent call last)",
      "\u001b[1;32m<ipython-input-79-d2d84b19103e>\u001b[0m in \u001b[0;36m<module>\u001b[1;34m()\u001b[0m\n\u001b[1;32m----> 1\u001b[1;33m \u001b[1;32mimport\u001b[0m \u001b[0mlightgbm\u001b[0m \u001b[1;32mas\u001b[0m \u001b[0mlgbm\u001b[0m\u001b[1;33m\u001b[0m\u001b[0m\n\u001b[0m\u001b[0;32m      2\u001b[0m params = {\n\u001b[0;32m      3\u001b[0m         \u001b[1;34m'boosting_type'\u001b[0m\u001b[1;33m:\u001b[0m\u001b[1;34m'gbdt'\u001b[0m\u001b[1;33m,\u001b[0m\u001b[1;33m\u001b[0m\u001b[0m\n\u001b[0;32m      4\u001b[0m         \u001b[1;34m'objective'\u001b[0m\u001b[1;33m:\u001b[0m \u001b[1;34m'regression'\u001b[0m\u001b[1;33m,\u001b[0m\u001b[1;33m\u001b[0m\u001b[0m\n\u001b[0;32m      5\u001b[0m         \u001b[1;34m'nthread'\u001b[0m\u001b[1;33m:\u001b[0m \u001b[1;33m-\u001b[0m\u001b[1;36m1\u001b[0m\u001b[1;33m,\u001b[0m\u001b[1;33m\u001b[0m\u001b[0m\n",
      "\u001b[1;31mModuleNotFoundError\u001b[0m: No module named 'lightgbm'"
     ]
    }
   ],
   "source": [
    "import lightgbm as lgbm\n",
    "params = {\n",
    "        'boosting_type':'gbdt',\n",
    "        'objective': 'regression',\n",
    "        'nthread': -1,\n",
    "        'verbose': 0,\n",
    "        'num_leaves': 31,\n",
    "        'learning_rate': 0.05,\n",
    "        'max_depth': -1,\n",
    "        'subsample': 0.8,\n",
    "        'subsample_freq': 1,\n",
    "        'colsample_bytree': 0.6,\n",
    "        'reg_aplha': 1,\n",
    "        'reg_lambda': 0.001,\n",
    "        'metric': 'rmse',\n",
    "        'min_split_gain': 0.5,\n",
    "        'min_child_weight': 1,\n",
    "        'min_child_samples': 10,\n",
    "        'scale_pos_weight':1     \n",
    "    }"
   ]
  }
 ],
 "metadata": {
  "kernelspec": {
   "display_name": "Python 3",
   "language": "python",
   "name": "python3"
  },
  "language_info": {
   "codemirror_mode": {
    "name": "ipython",
    "version": 3
   },
   "file_extension": ".py",
   "mimetype": "text/x-python",
   "name": "python",
   "nbconvert_exporter": "python",
   "pygments_lexer": "ipython3",
   "version": "3.7.0"
  }
 },
 "nbformat": 4,
 "nbformat_minor": 2
}
